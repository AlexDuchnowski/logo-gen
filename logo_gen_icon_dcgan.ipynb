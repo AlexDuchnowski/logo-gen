{
  "cells": [
    {
      "cell_type": "markdown",
      "metadata": {
        "id": "view-in-github",
        "colab_type": "text"
      },
      "source": [
        "<a href=\"https://colab.research.google.com/github/AlexDuchnowski/logo-gen/blob/main/logo_gen_icon_dcgan.ipynb\" target=\"_parent\"><img src=\"https://colab.research.google.com/assets/colab-badge.svg\" alt=\"Open In Colab\"/></a>"
      ]
    },
    {
      "cell_type": "markdown",
      "metadata": {
        "id": "BoJTDjMH-ye7"
      },
      "source": [
        "## Setup and Imports"
      ]
    },
    {
      "cell_type": "code",
      "execution_count": 1,
      "metadata": {
        "id": "83erIQPp-SN1",
        "colab": {
          "base_uri": "https://localhost:8080/"
        },
        "outputId": "cbf3b4fd-6fa0-49f9-a67c-8ae6c43407a4"
      },
      "outputs": [
        {
          "output_type": "stream",
          "name": "stdout",
          "text": [
            "Collecting tensorflow_gan\n",
            "  Downloading tensorflow_gan-2.1.0-py2.py3-none-any.whl (367 kB)\n",
            "\u001b[?25l\r\u001b[K     |█                               | 10 kB 22.7 MB/s eta 0:00:01\r\u001b[K     |█▉                              | 20 kB 7.3 MB/s eta 0:00:01\r\u001b[K     |██▊                             | 30 kB 5.3 MB/s eta 0:00:01\r\u001b[K     |███▋                            | 40 kB 5.6 MB/s eta 0:00:01\r\u001b[K     |████▌                           | 51 kB 4.6 MB/s eta 0:00:01\r\u001b[K     |█████▍                          | 61 kB 5.4 MB/s eta 0:00:01\r\u001b[K     |██████▎                         | 71 kB 6.2 MB/s eta 0:00:01\r\u001b[K     |███████▏                        | 81 kB 6.9 MB/s eta 0:00:01\r\u001b[K     |████████                        | 92 kB 7.7 MB/s eta 0:00:01\r\u001b[K     |█████████                       | 102 kB 7.2 MB/s eta 0:00:01\r\u001b[K     |█████████▉                      | 112 kB 7.2 MB/s eta 0:00:01\r\u001b[K     |██████████▊                     | 122 kB 7.2 MB/s eta 0:00:01\r\u001b[K     |███████████▋                    | 133 kB 7.2 MB/s eta 0:00:01\r\u001b[K     |████████████▌                   | 143 kB 7.2 MB/s eta 0:00:01\r\u001b[K     |█████████████▍                  | 153 kB 7.2 MB/s eta 0:00:01\r\u001b[K     |██████████████▎                 | 163 kB 7.2 MB/s eta 0:00:01\r\u001b[K     |███████████████▏                | 174 kB 7.2 MB/s eta 0:00:01\r\u001b[K     |████████████████                | 184 kB 7.2 MB/s eta 0:00:01\r\u001b[K     |█████████████████               | 194 kB 7.2 MB/s eta 0:00:01\r\u001b[K     |█████████████████▉              | 204 kB 7.2 MB/s eta 0:00:01\r\u001b[K     |██████████████████▊             | 215 kB 7.2 MB/s eta 0:00:01\r\u001b[K     |███████████████████▋            | 225 kB 7.2 MB/s eta 0:00:01\r\u001b[K     |████████████████████▌           | 235 kB 7.2 MB/s eta 0:00:01\r\u001b[K     |█████████████████████▍          | 245 kB 7.2 MB/s eta 0:00:01\r\u001b[K     |██████████████████████▎         | 256 kB 7.2 MB/s eta 0:00:01\r\u001b[K     |███████████████████████▏        | 266 kB 7.2 MB/s eta 0:00:01\r\u001b[K     |████████████████████████        | 276 kB 7.2 MB/s eta 0:00:01\r\u001b[K     |█████████████████████████       | 286 kB 7.2 MB/s eta 0:00:01\r\u001b[K     |██████████████████████████      | 296 kB 7.2 MB/s eta 0:00:01\r\u001b[K     |██████████████████████████▉     | 307 kB 7.2 MB/s eta 0:00:01\r\u001b[K     |███████████████████████████▊    | 317 kB 7.2 MB/s eta 0:00:01\r\u001b[K     |████████████████████████████▋   | 327 kB 7.2 MB/s eta 0:00:01\r\u001b[K     |█████████████████████████████▌  | 337 kB 7.2 MB/s eta 0:00:01\r\u001b[K     |██████████████████████████████▍ | 348 kB 7.2 MB/s eta 0:00:01\r\u001b[K     |███████████████████████████████▎| 358 kB 7.2 MB/s eta 0:00:01\r\u001b[K     |████████████████████████████████| 367 kB 7.2 MB/s \n",
            "\u001b[?25hRequirement already satisfied: tensorflow-hub>=0.2 in /usr/local/lib/python3.7/dist-packages (from tensorflow_gan) (0.12.0)\n",
            "Requirement already satisfied: tensorflow-probability>=0.7 in /usr/local/lib/python3.7/dist-packages (from tensorflow_gan) (0.16.0)\n",
            "Requirement already satisfied: numpy>=1.12.0 in /usr/local/lib/python3.7/dist-packages (from tensorflow-hub>=0.2->tensorflow_gan) (1.21.6)\n",
            "Requirement already satisfied: protobuf>=3.8.0 in /usr/local/lib/python3.7/dist-packages (from tensorflow-hub>=0.2->tensorflow_gan) (3.17.3)\n",
            "Requirement already satisfied: six>=1.9 in /usr/local/lib/python3.7/dist-packages (from protobuf>=3.8.0->tensorflow-hub>=0.2->tensorflow_gan) (1.15.0)\n",
            "Requirement already satisfied: decorator in /usr/local/lib/python3.7/dist-packages (from tensorflow-probability>=0.7->tensorflow_gan) (4.4.2)\n",
            "Requirement already satisfied: cloudpickle>=1.3 in /usr/local/lib/python3.7/dist-packages (from tensorflow-probability>=0.7->tensorflow_gan) (1.3.0)\n",
            "Requirement already satisfied: dm-tree in /usr/local/lib/python3.7/dist-packages (from tensorflow-probability>=0.7->tensorflow_gan) (0.1.7)\n",
            "Requirement already satisfied: absl-py in /usr/local/lib/python3.7/dist-packages (from tensorflow-probability>=0.7->tensorflow_gan) (1.0.0)\n",
            "Requirement already satisfied: gast>=0.3.2 in /usr/local/lib/python3.7/dist-packages (from tensorflow-probability>=0.7->tensorflow_gan) (0.5.3)\n",
            "Installing collected packages: tensorflow-gan\n",
            "Successfully installed tensorflow-gan-2.1.0\n",
            "WARNING:tensorflow:From /usr/local/lib/python3.7/dist-packages/tensorflow_gan/python/estimator/tpu_gan_estimator.py:42: The name tf.estimator.tpu.TPUEstimator is deprecated. Please use tf.compat.v1.estimator.tpu.TPUEstimator instead.\n",
            "\n"
          ]
        }
      ],
      "source": [
        "!pip install tensorflow_gan\n",
        "import tensorflow_gan as tfgan\n",
        "import tensorflow as tf\n",
        "from tensorflow.keras import layers\n",
        "import numpy as np\n",
        "import h5py\n",
        "import matplotlib.pyplot as plt\n",
        "from IPython.display import clear_output\n",
        "import os\n",
        "import csv\n",
        "import glob"
      ]
    },
    {
      "cell_type": "code",
      "execution_count": 2,
      "metadata": {
        "colab": {
          "base_uri": "https://localhost:8080/"
        },
        "id": "PuY51rBz2WUD",
        "outputId": "9b37e655-0484-4224-9d20-c9ee60a16e33"
      },
      "outputs": [
        {
          "output_type": "stream",
          "name": "stdout",
          "text": [
            "Mounted at /content/drive\n"
          ]
        }
      ],
      "source": [
        "from google.colab import drive\n",
        "drive.mount('/content/drive')"
      ]
    },
    {
      "cell_type": "code",
      "execution_count": 3,
      "metadata": {
        "id": "SNsWLLNwXnQE"
      },
      "outputs": [],
      "source": [
        "for file in glob.glob(\"*.png\"):\n",
        "    os.remove(file)"
      ]
    },
    {
      "cell_type": "markdown",
      "metadata": {
        "id": "AL3eErYZ_TQS"
      },
      "source": [
        "## Pre-processing"
      ]
    },
    {
      "cell_type": "code",
      "execution_count": 4,
      "metadata": {
        "id": "arKAcDswSdRj"
      },
      "outputs": [],
      "source": [
        "# Global Parameters\n",
        "BATCH_SIZE = 256\n",
        "NUM_EPOCHS = 500\n",
        "LATENT_DIM = 512\n",
        "IMG_SHAPE = (32, 32, 3)\n",
        "CLUSTER_CHOSEN = 62\n",
        "CALLBACK_PERIOD = 50"
      ]
    },
    {
      "cell_type": "code",
      "execution_count": 5,
      "metadata": {
        "id": "uPgnWeen_QAY"
      },
      "outputs": [],
      "source": [
        "def make_input_generator_with_clusters(data_file_path, cluster_file_path, batch_size, epochs):\n",
        "    hdf5_file = h5py.File(data_file_path, 'r')\n",
        "    clusters = read_cluster_data(cluster_file_path)\n",
        "    indices = np.nonzero(clusters == CLUSTER_CHOSEN)[0]\n",
        "\n",
        "    for n in range(epochs):\n",
        "        for i in range(0, len(indices), batch_size):\n",
        "            if i + batch_size >= len(indices):\n",
        "                break\n",
        "            indices_batch = indices[i:i+batch_size]\n",
        "            # transpose from NCHW to NHWC\n",
        "            images = hdf5_file['data'][indices_batch]\n",
        "            images = tf.cast(tf.transpose(images, [0, 2, 3, 1]), tf.int32)\n",
        "            images = process_images(images)\n",
        "            yield images\n",
        "        \n",
        "def process_images(images):\n",
        "    # transform pixel range from [0, 255] to [-1, 1] (use tanh activation in generator)\n",
        "    images = (tf.cast(images, tf.float32) - 127.5) / 127.5\n",
        "    return images\n",
        "\n",
        "def read_cluster_data(cluster_file_path):\n",
        "    # read in the csv file\n",
        "    with open(cluster_file_path, 'r') as f:\n",
        "        cluster_data = [int(float(row[0])) for row in csv.reader(f)]\n",
        "    return tf.convert_to_tensor(cluster_data)"
      ]
    },
    {
      "cell_type": "markdown",
      "metadata": {
        "id": "BsV-FMHhRmPn"
      },
      "source": [
        "## Models"
      ]
    },
    {
      "cell_type": "code",
      "execution_count": 6,
      "metadata": {
        "id": "omZWB73Pp5gZ"
      },
      "outputs": [],
      "source": [
        "def get_generator_model():\n",
        "    model = tf.keras.Sequential()\n",
        "    model.add(layers.Dense(4*4*512, use_bias=False, input_shape=(LATENT_DIM,)))\n",
        "    model.add(layers.BatchNormalization())\n",
        "    model.add(layers.LeakyReLU())\n",
        "\n",
        "    model.add(layers.Reshape((4, 4, 512)))\n",
        "    assert model.output_shape == (None, 4, 4, 512)  # Note: None is the batch size\n",
        "\n",
        "    model.add(layers.Conv2DTranspose(256, (5, 5), strides=(1, 1), padding='same', use_bias=False))\n",
        "    assert model.output_shape == (None, 4, 4, 256)\n",
        "    model.add(layers.BatchNormalization())\n",
        "    model.add(layers.LeakyReLU())\n",
        "\n",
        "    model.add(layers.Conv2DTranspose(128, (5, 5), strides=(2, 2), padding='same', use_bias=False))\n",
        "    assert model.output_shape == (None, 8, 8, 128)\n",
        "    model.add(layers.BatchNormalization())\n",
        "    model.add(layers.LeakyReLU())\n",
        "\n",
        "    model.add(layers.Conv2DTranspose(64, (5, 5), strides=(2, 2), padding='same', use_bias=False))\n",
        "    assert model.output_shape == (None, 16, 16, 64)\n",
        "    model.add(layers.BatchNormalization())\n",
        "    model.add(layers.LeakyReLU())\n",
        "\n",
        "    model.add(layers.Conv2DTranspose(3, (5, 5), strides=(2, 2), padding='same', use_bias=False, activation='tanh'))\n",
        "    assert model.output_shape == (None, 32, 32, 3)\n",
        "\n",
        "    return model\n",
        "\n",
        "def get_discriminator_model():\n",
        "    model = tf.keras.Sequential()\n",
        "    model.add(layers.Conv2D(64, (5, 5), strides=(2, 2), padding='same',\n",
        "                                     input_shape=IMG_SHAPE))\n",
        "    model.add(layers.LeakyReLU())\n",
        "    model.add(layers.Dropout(0.3))\n",
        "\n",
        "    model.add(layers.Conv2D(128, (5, 5), strides=(2, 2), padding='same'))\n",
        "    model.add(layers.LeakyReLU())\n",
        "    model.add(layers.Dropout(0.3))\n",
        "\n",
        "    model.add(layers.Flatten())\n",
        "    model.add(layers.Dense(1))\n",
        "\n",
        "    return model"
      ]
    },
    {
      "cell_type": "code",
      "execution_count": 7,
      "metadata": {
        "colab": {
          "base_uri": "https://localhost:8080/"
        },
        "id": "GkohMrr3yLeg",
        "outputId": "0aed8c51-e2e0-4630-85aa-baa3874988f1"
      },
      "outputs": [
        {
          "output_type": "stream",
          "name": "stdout",
          "text": [
            "Model: \"sequential\"\n",
            "_________________________________________________________________\n",
            " Layer (type)                Output Shape              Param #   \n",
            "=================================================================\n",
            " dense (Dense)               (None, 8192)              4194304   \n",
            "                                                                 \n",
            " batch_normalization (BatchN  (None, 8192)             32768     \n",
            " ormalization)                                                   \n",
            "                                                                 \n",
            " leaky_re_lu (LeakyReLU)     (None, 8192)              0         \n",
            "                                                                 \n",
            " reshape (Reshape)           (None, 4, 4, 512)         0         \n",
            "                                                                 \n",
            " conv2d_transpose (Conv2DTra  (None, 4, 4, 256)        3276800   \n",
            " nspose)                                                         \n",
            "                                                                 \n",
            " batch_normalization_1 (Batc  (None, 4, 4, 256)        1024      \n",
            " hNormalization)                                                 \n",
            "                                                                 \n",
            " leaky_re_lu_1 (LeakyReLU)   (None, 4, 4, 256)         0         \n",
            "                                                                 \n",
            " conv2d_transpose_1 (Conv2DT  (None, 8, 8, 128)        819200    \n",
            " ranspose)                                                       \n",
            "                                                                 \n",
            " batch_normalization_2 (Batc  (None, 8, 8, 128)        512       \n",
            " hNormalization)                                                 \n",
            "                                                                 \n",
            " leaky_re_lu_2 (LeakyReLU)   (None, 8, 8, 128)         0         \n",
            "                                                                 \n",
            " conv2d_transpose_2 (Conv2DT  (None, 16, 16, 64)       204800    \n",
            " ranspose)                                                       \n",
            "                                                                 \n",
            " batch_normalization_3 (Batc  (None, 16, 16, 64)       256       \n",
            " hNormalization)                                                 \n",
            "                                                                 \n",
            " leaky_re_lu_3 (LeakyReLU)   (None, 16, 16, 64)        0         \n",
            "                                                                 \n",
            " conv2d_transpose_3 (Conv2DT  (None, 32, 32, 3)        4800      \n",
            " ranspose)                                                       \n",
            "                                                                 \n",
            "=================================================================\n",
            "Total params: 8,534,464\n",
            "Trainable params: 8,517,184\n",
            "Non-trainable params: 17,280\n",
            "_________________________________________________________________\n",
            "Model: \"sequential_1\"\n",
            "_________________________________________________________________\n",
            " Layer (type)                Output Shape              Param #   \n",
            "=================================================================\n",
            " conv2d (Conv2D)             (None, 16, 16, 64)        4864      \n",
            "                                                                 \n",
            " leaky_re_lu_4 (LeakyReLU)   (None, 16, 16, 64)        0         \n",
            "                                                                 \n",
            " dropout (Dropout)           (None, 16, 16, 64)        0         \n",
            "                                                                 \n",
            " conv2d_1 (Conv2D)           (None, 8, 8, 128)         204928    \n",
            "                                                                 \n",
            " leaky_re_lu_5 (LeakyReLU)   (None, 8, 8, 128)         0         \n",
            "                                                                 \n",
            " dropout_1 (Dropout)         (None, 8, 8, 128)         0         \n",
            "                                                                 \n",
            " flatten (Flatten)           (None, 8192)              0         \n",
            "                                                                 \n",
            " dense_1 (Dense)             (None, 1)                 8193      \n",
            "                                                                 \n",
            "=================================================================\n",
            "Total params: 217,985\n",
            "Trainable params: 217,985\n",
            "Non-trainable params: 0\n",
            "_________________________________________________________________\n"
          ]
        }
      ],
      "source": [
        "g_model = get_generator_model()\n",
        "g_model.summary()\n",
        "\n",
        "d_model = get_discriminator_model()\n",
        "d_model.summary()"
      ]
    },
    {
      "cell_type": "code",
      "source": [
        "!pip install visualkeras\n",
        "import visualkeras"
      ],
      "metadata": {
        "colab": {
          "base_uri": "https://localhost:8080/"
        },
        "id": "SzKHWxW5zfmd",
        "outputId": "e51e8670-e387-4f0b-a624-63d4d52f2328"
      },
      "execution_count": 8,
      "outputs": [
        {
          "output_type": "stream",
          "name": "stdout",
          "text": [
            "Collecting visualkeras\n",
            "  Downloading visualkeras-0.0.2-py3-none-any.whl (12 kB)\n",
            "Collecting aggdraw>=1.3.11\n",
            "  Downloading aggdraw-1.3.14-cp37-cp37m-manylinux_2_17_x86_64.manylinux2014_x86_64.whl (992 kB)\n",
            "\u001b[K     |████████████████████████████████| 992 kB 6.3 MB/s \n",
            "\u001b[?25hRequirement already satisfied: pillow>=6.2.0 in /usr/local/lib/python3.7/dist-packages (from visualkeras) (7.1.2)\n",
            "Requirement already satisfied: numpy>=1.18.1 in /usr/local/lib/python3.7/dist-packages (from visualkeras) (1.21.6)\n",
            "Installing collected packages: aggdraw, visualkeras\n",
            "Successfully installed aggdraw-1.3.14 visualkeras-0.0.2\n"
          ]
        }
      ]
    },
    {
      "cell_type": "code",
      "source": [
        "visualkeras.layered_view(g_model, type_ignore=[layers.Reshape], legend=True, scale_xy=20, scale_z=1, to_file='model_visualization.png')"
      ],
      "metadata": {
        "colab": {
          "base_uri": "https://localhost:8080/",
          "height": 456
        },
        "id": "66fbBvUtzkOz",
        "outputId": "045c7558-17cc-4361-fa0a-70cf25f7baf0"
      },
      "execution_count": 9,
      "outputs": [
        {
          "output_type": "execute_result",
          "data": {
            "text/plain": [
              "<PIL.Image.Image image mode=RGBA size=2815x890 at 0x7F6AF9AFDB50>"
            ],
            "image/png": "[encoded data removed]"
          },
          "metadata": {},
          "execution_count": 9
        }
      ]
    },
    {
      "cell_type": "code",
      "execution_count": 10,
      "metadata": {
        "id": "g5rm1wcsDr7m"
      },
      "outputs": [],
      "source": [
        "class DCGAN(tf.keras.Model):\n",
        "    def __init__(\n",
        "        self,\n",
        "        discriminator,\n",
        "        generator,\n",
        "        latent_dim,\n",
        "        discriminator_extra_steps=3,\n",
        "    ):\n",
        "        super(DCGAN, self).__init__()\n",
        "        self.discriminator = discriminator\n",
        "        self.generator = generator\n",
        "        self.latent_dim = latent_dim\n",
        "        self.d_steps = discriminator_extra_steps\n",
        "\n",
        "    def compile(self, d_optimizer, g_optimizer, d_loss_fn, g_loss_fn):\n",
        "        super(DCGAN, self).compile()\n",
        "        self.d_optimizer = d_optimizer\n",
        "        self.g_optimizer = g_optimizer\n",
        "        self.d_loss_fn = d_loss_fn\n",
        "        self.g_loss_fn = g_loss_fn\n",
        "\n",
        "    def train_step(self, real_images):\n",
        "        if isinstance(real_images, tuple):\n",
        "            real_images = real_images[0]\n",
        "\n",
        "        # Get the batch size\n",
        "        batch_size = tf.shape(real_images)[0]\n",
        "\n",
        "        for i in range(self.d_steps):\n",
        "            # Get the latent vector\n",
        "            random_latent_vectors = tf.random.normal(\n",
        "                shape=(batch_size, self.latent_dim)\n",
        "            )\n",
        "            with tf.GradientTape() as tape:\n",
        "                # Generate fake images from the latent vector\n",
        "                fake_images = self.generator(random_latent_vectors, training=True)\n",
        "                # Get the logits for the fake images\n",
        "                fake_logits = self.discriminator(fake_images, training=True)\n",
        "                # Get the logits for the real images\n",
        "                real_logits = self.discriminator(real_images, training=True)\n",
        "\n",
        "                # Calculate the discriminator loss using the fake and real image logits\n",
        "                d_loss = self.d_loss_fn(real_output=real_logits, fake_output=fake_logits)\n",
        "\n",
        "            # Get the gradients w.r.t the discriminator loss\n",
        "            d_gradient = tape.gradient(d_loss, self.discriminator.trainable_variables)\n",
        "            # Update the weights of the discriminator using the discriminator optimizer\n",
        "            self.d_optimizer.apply_gradients(\n",
        "                zip(d_gradient, self.discriminator.trainable_variables)\n",
        "            )\n",
        "\n",
        "        # Train the generator\n",
        "        # Get the latent vector\n",
        "        random_latent_vectors = tf.random.normal(shape=(batch_size, self.latent_dim))\n",
        "        with tf.GradientTape() as tape:\n",
        "            # Generate fake images using the generator\n",
        "            generated_images = self.generator(random_latent_vectors, training=True)\n",
        "            # Get the discriminator logits for fake images\n",
        "            gen_img_logits = self.discriminator(generated_images, training=True)\n",
        "            # Calculate the generator loss\n",
        "            g_loss = self.g_loss_fn(gen_img_logits)\n",
        "\n",
        "        # Get the gradients w.r.t the generator loss\n",
        "        gen_gradient = tape.gradient(g_loss, self.generator.trainable_variables)\n",
        "        # Update the weights of the generator using the generator optimizer\n",
        "        self.g_optimizer.apply_gradients(\n",
        "            zip(gen_gradient, self.generator.trainable_variables)\n",
        "        )\n",
        "        return {\"d_loss\": d_loss, \"g_loss\": g_loss}"
      ]
    },
    {
      "cell_type": "markdown",
      "metadata": {
        "id": "3sSsRS8xRo81"
      },
      "source": [
        "## Keras Callback"
      ]
    },
    {
      "cell_type": "code",
      "execution_count": 11,
      "metadata": {
        "id": "RZqVAWqYFUKN"
      },
      "outputs": [],
      "source": [
        "class GANMonitor(tf.keras.callbacks.Callback):\n",
        "    def __init__(self, num_img=6, latent_dim=128):\n",
        "        self.num_img = num_img\n",
        "        self.latent_dim = latent_dim\n",
        "\n",
        "    def on_batch_end(self, batch, logs={}):\n",
        "        if (batch % CALLBACK_PERIOD != 0):\n",
        "            return\n",
        "        random_latent_vectors = tf.random.normal(shape=(self.num_img, self.latent_dim))\n",
        "        generated_images = self.model.generator(random_latent_vectors)\n",
        "        generated_images = (generated_images * 127.5) + 127.5\n",
        "\n",
        "        for i in range(self.num_img):\n",
        "            img = generated_images[i].numpy()\n",
        "            img = tf.keras.preprocessing.image.array_to_img(img)\n",
        "            img.save(\"generated_img_{batch}_{i}.png\".format(i=i, batch=batch))\n",
        "        \n",
        "        # Storing metrics\n",
        "        for metric in logs:\n",
        "            if metric in self.metrics:\n",
        "                self.metrics[metric].append(logs.get(metric))\n",
        "            else:\n",
        "                self.metrics[metric] = [logs.get(metric)]\n",
        "        \n",
        "        # Plotting\n",
        "        metrics = [x for x in logs if 'val' not in x]\n",
        "        \n",
        "        f, axs = plt.subplots(1, figsize=(15,5))\n",
        "        clear_output(wait=True)\n",
        "\n",
        "        for i, metric in enumerate(metrics):\n",
        "            axs.plot(range(1, batch + 2, CALLBACK_PERIOD),\n",
        "                        self.metrics[metric],\n",
        "                        label=metric)\n",
        "                \n",
        "            axs.legend()\n",
        "            axs.grid()\n",
        "        \n",
        "        plt.title(\"Generator and Discriminator Loss\")\n",
        "        plt.xlabel(\"Number of Batches Trained\")\n",
        "        plt.ylabel(\"Loss\")\n",
        "\n",
        "        plt.tight_layout()\n",
        "        plt.savefig('loss_graph.png')\n",
        "        plt.show()\n",
        "\n",
        "    def on_train_begin(self, logs={}):\n",
        "        self.metrics = {}\n",
        "        for metric in logs:\n",
        "            self.metrics[metric] = []        "
      ]
    },
    {
      "cell_type": "markdown",
      "metadata": {
        "id": "XvaARAY4Rqw8"
      },
      "source": [
        "## Training the Model"
      ]
    },
    {
      "cell_type": "code",
      "execution_count": null,
      "metadata": {
        "colab": {
          "base_uri": "https://localhost:8080/",
          "height": 331
        },
        "id": "t3tqnE4jFPD2",
        "outputId": "1d9605dd-f39a-48c0-88c5-fb848f0cbe90"
      },
      "outputs": [
        {
          "output_type": "display_data",
          "data": {
            "text/plain": [
              "<Figure size 1080x360 with 1 Axes>"
            ],
            "image/png": "[encoded data removed]"
          },
          "metadata": {
            "needs_background": "light"
          }
        },
        {
          "output_type": "stream",
          "name": "stdout",
          "text": [
            "4000/4000 [==============================] - 2744s 683ms/step - d_loss: 0.5888 - g_loss: 2.2825\n"
          ]
        },
        {
          "output_type": "execute_result",
          "data": {
            "text/plain": [
              "<keras.callbacks.History at 0x7fb1fc855110>"
            ]
          },
          "metadata": {},
          "execution_count": 55
        }
      ],
      "source": [
        "data_file_path = '/content/drive/Shared drives/DL Final Project/Code/LLD-icon.hdf5'\n",
        "cluster_file_path = '/content/drive/Shared drives/DL Final Project/Code/cluster-data/icon/64_clusters_data.csv'\n",
        "gen = make_input_generator_with_clusters(data_file_path, cluster_file_path, batch_size=BATCH_SIZE, epochs=NUM_EPOCHS)\n",
        "\n",
        "# Instantiate the optimizer for both networks\n",
        "# (learning_rate=0.0002, beta_1=0.5 are recommended)\n",
        "generator_optimizer = tf.keras.optimizers.Adam(\n",
        "    learning_rate=0.0002, beta_1=0.5, beta_2=0.9\n",
        ")\n",
        "discriminator_optimizer = tf.keras.optimizers.Adam(\n",
        "    learning_rate=0.0002, beta_1=0.5, beta_2=0.9\n",
        ")\n",
        "\n",
        "cross_entropy = tf.keras.losses.BinaryCrossentropy(from_logits=True)\n",
        "\n",
        "# Define the loss function for the discriminator.\n",
        "def discriminator_loss(real_output, fake_output):\n",
        "    real_loss = cross_entropy(tf.ones_like(real_output), real_output)\n",
        "    fake_loss = cross_entropy(tf.zeros_like(fake_output), fake_output)\n",
        "    total_loss = real_loss + fake_loss\n",
        "    return total_loss\n",
        "\n",
        "# Define the loss function for the generator.\n",
        "def generator_loss(fake_output):\n",
        "    return cross_entropy(tf.ones_like(fake_output), fake_output)\n",
        "\n",
        "\n",
        "# Instantiate the customer `GANMonitor` Keras callback.\n",
        "cbk = GANMonitor(num_img=3, latent_dim=LATENT_DIM)\n",
        "\n",
        "# Instantiate the DCGAN model.\n",
        "dcgan = DCGAN(\n",
        "    discriminator=d_model,\n",
        "    generator=g_model,\n",
        "    latent_dim=LATENT_DIM,\n",
        "    discriminator_extra_steps=3,\n",
        ")\n",
        "\n",
        "# Compile the DCGAN model.\n",
        "dcgan.compile(\n",
        "    d_optimizer=discriminator_optimizer,\n",
        "    g_optimizer=generator_optimizer,\n",
        "    g_loss_fn=generator_loss,\n",
        "    d_loss_fn=discriminator_loss,\n",
        ")\n",
        "\n",
        "# Start training the model.\n",
        "dcgan.fit(x=gen, callbacks=[cbk])"
      ]
    },
    {
      "cell_type": "markdown",
      "source": [
        "## Evaluation Metrics"
      ],
      "metadata": {
        "id": "k_4lSDRgcRl-"
      }
    },
    {
      "cell_type": "code",
      "execution_count": 12,
      "metadata": {
        "id": "XaNtdxnsaWUX"
      },
      "outputs": [],
      "source": [
        "def inception_score(images):\n",
        "    images = process_inception_input(images)\n",
        "    inception_model = tf.keras.applications.InceptionV3(classifier_activation=None)\n",
        "    return tfgan.eval.classifier_score(images, inception_model.predict)\n",
        "\n",
        "def frechet_inception_distance(real_images, fake_images):\n",
        "    real_images = process_inception_input(real_images)\n",
        "    fake_images = process_inception_input(fake_images)\n",
        "    inception_model = tf.keras.applications.InceptionV3(classifier_activation='softmax')\n",
        "    return tfgan.eval.frechet_classifier_distance(real_images, fake_images, inception_model.predict)\n",
        "\n",
        "def process_inception_input(images):\n",
        "    images = tf.image.resize(images, size=[299, 299], method=tf.image.ResizeMethod.NEAREST_NEIGHBOR)\n",
        "    images = tf.cast(images, tf.float32)\n",
        "    images = tf.keras.applications.inception_v3.preprocess_input(images)\n",
        "    return images"
      ]
    },
    {
      "cell_type": "code",
      "source": [
        "num_imgs = 1000\n",
        "\n",
        "random_latent_vectors = tf.random.normal(shape=(num_imgs, LATENT_DIM))\n",
        "generated_images = dcgan.generator(random_latent_vectors)\n",
        "generated_images = tf.cast((generated_images * 127.5) + 127.5, tf.int32)\n",
        "\n",
        "data_file_path = '/content/drive/Shared drives/DL Final Project/Code/LLD-icon.hdf5'\n",
        "gen = make_input_generator_with_clusters(data_file_path, cluster_file_path, batch_size=num_imgs, epochs=1)\n",
        "\n",
        "print(f'Inception Score (Fake): {inception_score(generated_images)}')\n",
        "print(f'Inception Score (Real): {inception_score(next(gen))}')\n",
        "print(f'FID: {frechet_inception_distance(next(gen), generated_images)}')"
      ],
      "metadata": {
        "id": "KkeMomuQNX-r"
      },
      "execution_count": null,
      "outputs": []
    }
  ],
  "metadata": {
    "colab": {
      "collapsed_sections": [],
      "name": "logo_gen_icon_dcgan",
      "provenance": [],
      "include_colab_link": true
    },
    "kernelspec": {
      "display_name": "Python 3",
      "name": "python3"
    },
    "language_info": {
      "name": "python"
    }
  },
  "nbformat": 4,
  "nbformat_minor": 0
}